{
 "cells": [
  {
   "cell_type": "markdown",
   "metadata": {},
   "source": [
    "### Procesamiento de Audio"
   ]
  },
  {
   "cell_type": "markdown",
   "metadata": {},
   "source": [
    "En el notebook se nos especifico que teniamos que manipular el procesamiento de audio para esto, en los datos reales se recabo la informaion con la siguiente pregunta \"Relata brevemente\""
   ]
  },
  {
   "cell_type": "markdown",
   "metadata": {},
   "source": [
    "Aqui adjuntamos una muestra de uno de los entrevistados."
   ]
  },
  {
   "cell_type": "markdown",
   "metadata": {},
   "source": [
    "Por otro lado, tambien se tuvo que recabar informacion de forma artificial, utilizando chatgpt con el siguiente prompt \"Relata brevemente\", lo malo es que daba respuestas muy breves, entonces mi siguiente prompt fue \"Hazlo mas largo y bla bla\", despues de obtener nuestras respuestas, lo pase a una herramienta llamada Narakeet la cual puedes usaarlo de forma gratuita cada tantos archivos. Como muestra se reproducira uno de los audios."
   ]
  }
 ],
 "metadata": {
  "language_info": {
   "name": "python"
  }
 },
 "nbformat": 4,
 "nbformat_minor": 2
}
